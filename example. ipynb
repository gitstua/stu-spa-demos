{
 "cells": [
    {
     "cell_type": "markdown",
     "metadata": {},
     "source": [
        "# Sample Jupyter Notebook\n",
        "This is a sample Jupyter Notebook."
     ]
    },
    {
     "cell_type": "code",
     "execution_count": 1,
     "metadata": {},
     "outputs": [],
     "source": [
        "import numpy as np\n",
        "import matplotlib.pyplot as plt"
     ]
    },
    {
     "cell_type": "markdown",
     "metadata": {},
     "source": [
        "## Generate Random Data"
     ]
    },
    {
     "cell_type": "code",
     "execution_count": 2,
     "metadata": {},
     "outputs": [],
     "source": [
        "data = np.random.randn(1000)"
     ]
    },
    {
     "cell_type": "markdown",
     "metadata": {},
     "source": [
        "## Plot the Data"
     ]
    },

    {
     "cell_type": "code",
     "execution_count": 3,
     "metadata": {},
     "outputs": [],
     "source": [
        "plt.hist(data, bins=30)\n",
        "plt.show()"
     ]
    }